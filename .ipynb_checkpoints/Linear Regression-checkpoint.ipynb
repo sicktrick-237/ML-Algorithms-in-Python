{
 "cells": [
  {
   "cell_type": "code",
   "execution_count": null,
   "metadata": {},
   "outputs": [],
   "source": [
    "# Linear Regression implemented in python using Pandas"
   ]
  },
  {
   "cell_type": "code",
   "execution_count": null,
   "metadata": {},
   "outputs": [],
   "source": [
    "'''\n",
    "Simple Linear Regression\n",
    "Implemented when output is dependent on a single independent variable.\n",
    "\n",
    "Line Equation : y = mx + c\n",
    "The equation has the form Y=c+mX, \n",
    "Y is the dependent variable (that’s the variable that goes on the Y axis), \n",
    "X is the independent variable (i.e. it is plotted on the X axis), \n",
    "m is the slope of the line and c is the y-intercept (where the graph crosses the y-axis)\n",
    "'''"
   ]
  },
  {
   "cell_type": "code",
   "execution_count": 51,
   "metadata": {},
   "outputs": [],
   "source": [
    "import pandas as pd\n",
    "\n",
    "df = pd.read_csv(\"DOY.csv\")\n",
    "\n",
    "x = list(df['year'])\n",
    "y = list(df['age'])"
   ]
  },
  {
   "cell_type": "code",
   "execution_count": 52,
   "metadata": {},
   "outputs": [
    {
     "data": {
      "text/html": [
       "<div>\n",
       "<style scoped>\n",
       "    .dataframe tbody tr th:only-of-type {\n",
       "        vertical-align: middle;\n",
       "    }\n",
       "\n",
       "    .dataframe tbody tr th {\n",
       "        vertical-align: top;\n",
       "    }\n",
       "\n",
       "    .dataframe thead th {\n",
       "        text-align: right;\n",
       "    }\n",
       "</style>\n",
       "<table border=\"1\" class=\"dataframe\">\n",
       "  <thead>\n",
       "    <tr style=\"text-align: right;\">\n",
       "      <th></th>\n",
       "      <th>year</th>\n",
       "      <th>age</th>\n",
       "    </tr>\n",
       "  </thead>\n",
       "  <tbody>\n",
       "    <tr>\n",
       "      <th>0</th>\n",
       "      <td>1990</td>\n",
       "      <td>29</td>\n",
       "    </tr>\n",
       "    <tr>\n",
       "      <th>1</th>\n",
       "      <td>1998</td>\n",
       "      <td>21</td>\n",
       "    </tr>\n",
       "    <tr>\n",
       "      <th>2</th>\n",
       "      <td>2000</td>\n",
       "      <td>19</td>\n",
       "    </tr>\n",
       "    <tr>\n",
       "      <th>3</th>\n",
       "      <td>2001</td>\n",
       "      <td>18</td>\n",
       "    </tr>\n",
       "    <tr>\n",
       "      <th>4</th>\n",
       "      <td>2002</td>\n",
       "      <td>17</td>\n",
       "    </tr>\n",
       "    <tr>\n",
       "      <th>5</th>\n",
       "      <td>2003</td>\n",
       "      <td>16</td>\n",
       "    </tr>\n",
       "    <tr>\n",
       "      <th>6</th>\n",
       "      <td>2005</td>\n",
       "      <td>14</td>\n",
       "    </tr>\n",
       "  </tbody>\n",
       "</table>\n",
       "</div>"
      ],
      "text/plain": [
       "   year  age\n",
       "0  1990   29\n",
       "1  1998   21\n",
       "2  2000   19\n",
       "3  2001   18\n",
       "4  2002   17\n",
       "5  2003   16\n",
       "6  2005   14"
      ]
     },
     "execution_count": 52,
     "metadata": {},
     "output_type": "execute_result"
    }
   ],
   "source": [
    "df"
   ]
  },
  {
   "cell_type": "code",
   "execution_count": 55,
   "metadata": {},
   "outputs": [
    {
     "name": "stdout",
     "output_type": "stream",
     "text": [
      "Enter DOB to Predict Age :2010\n",
      "Predicted Age is : 9\n"
     ]
    }
   ],
   "source": [
    "import pandas as pd\n",
    "\n",
    "class helper:\n",
    "    # class attributes\n",
    "    sum_x = 0\n",
    "    sum_y = 0\n",
    "    mean_x = 0\n",
    "    mean_y = 0\n",
    "    sum_x_sqr = 0\n",
    "    sum_xy = 0\n",
    "    def mean(self,x,y):\n",
    "        for each in x:\n",
    "            self.sum_x += each\n",
    "        self.mean_x = self.sum_x/len(x)\n",
    "        for each in y:\n",
    "            self.sum_y += each\n",
    "        self.mean_y = self.sum_y/len(y)\n",
    "        return self.mean_x,self.mean_y\n",
    "    \n",
    "    def cal_sdeviation(self,x):\n",
    "        for each in x:\n",
    "            self.sum_x_sqr += each*each\n",
    "        return self.sum_x_sqr - len(x)*self.mean_x*self.mean_x # CD = ΣX² - N * (Mean X)²\n",
    "    \n",
    "    def cal_cdeviation(self,x,y):\n",
    "        i = 0\n",
    "        while i < len(x):\n",
    "            self.sum_xy += x[i]*y[i]\n",
    "            i += 1\n",
    "        return self.sum_xy - len(x)*self.mean_x*self.mean_y # SD = ΣXY - N * Mean X * Mean Y\n",
    "    \n",
    "    \n",
    "def cal_coef(x,y):\n",
    "    clshelper = helper() # helper instance which will help to use all class attrs within it's methods\n",
    "    mean_x,mean_y = clshelper.mean(x,y)\n",
    "    SD_xx = clshelper.cal_sdeviation(x) # Standard Deviation\n",
    "    CD_xy = clshelper.cal_cdeviation(x,y) # Cross Deviation\n",
    "    m = CD_xy / SD_xx  # Slope Formula : Cross Deviation upon Standard Deviation\n",
    "    c = mean_y - m * mean_x\n",
    "    return m,c\n",
    "\n",
    "m,c = cal_coef(x,y)\n",
    "dob = int(input(\"Enter DOB to Predict Age :\"))\n",
    "print(\"Predicted Age is :\",int(m*dob+c))"
   ]
  },
  {
   "cell_type": "code",
   "execution_count": null,
   "metadata": {},
   "outputs": [],
   "source": [
    "'''\n",
    "Gloss Table :\n",
    "What's this Standard Deviation mate ?\n",
    "What's this Cross Deviation mate ?\n",
    "'''"
   ]
  }
 ],
 "metadata": {
  "kernelspec": {
   "display_name": "Python 3",
   "language": "python",
   "name": "python3"
  },
  "language_info": {
   "codemirror_mode": {
    "name": "ipython",
    "version": 3
   },
   "file_extension": ".py",
   "mimetype": "text/x-python",
   "name": "python",
   "nbconvert_exporter": "python",
   "pygments_lexer": "ipython3",
   "version": "3.7.3"
  }
 },
 "nbformat": 4,
 "nbformat_minor": 2
}
